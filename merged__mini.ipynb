{
 "cells": [
  {
   "cell_type": "code",
   "execution_count": 1,
   "id": "6d437e8a-a11a-4c94-ae09-13b68387bb55",
   "metadata": {},
   "outputs": [
    {
     "name": "stdout",
     "output_type": "stream",
     "text": [
      "Requirement already satisfied: bitsandbytes in /opt/anaconda3/lib/python3.11/site-packages (0.42.0)\n",
      "Requirement already satisfied: accelerate in /opt/anaconda3/lib/python3.11/site-packages (0.30.1)\n",
      "Requirement already satisfied: scipy in /opt/anaconda3/lib/python3.11/site-packages (from bitsandbytes) (1.12.0)\n",
      "Requirement already satisfied: numpy>=1.17 in /opt/anaconda3/lib/python3.11/site-packages (from accelerate) (1.26.4)\n",
      "Requirement already satisfied: packaging>=20.0 in /opt/anaconda3/lib/python3.11/site-packages (from accelerate) (23.2)\n",
      "Requirement already satisfied: psutil in /opt/anaconda3/lib/python3.11/site-packages (from accelerate) (5.9.0)\n",
      "Requirement already satisfied: pyyaml in /opt/anaconda3/lib/python3.11/site-packages (from accelerate) (6.0.1)\n",
      "Requirement already satisfied: torch>=1.10.0 in /opt/anaconda3/lib/python3.11/site-packages (from accelerate) (2.2.0)\n",
      "Requirement already satisfied: huggingface-hub in /opt/anaconda3/lib/python3.11/site-packages (from accelerate) (0.23.3)\n",
      "Requirement already satisfied: safetensors>=0.3.1 in /opt/anaconda3/lib/python3.11/site-packages (from accelerate) (0.4.3)\n",
      "Requirement already satisfied: filelock in /opt/anaconda3/lib/python3.11/site-packages (from torch>=1.10.0->accelerate) (3.13.1)\n",
      "Requirement already satisfied: typing-extensions>=4.8.0 in /opt/anaconda3/lib/python3.11/site-packages (from torch>=1.10.0->accelerate) (4.9.0)\n",
      "Requirement already satisfied: sympy in /opt/anaconda3/lib/python3.11/site-packages (from torch>=1.10.0->accelerate) (1.12)\n",
      "Requirement already satisfied: networkx in /opt/anaconda3/lib/python3.11/site-packages (from torch>=1.10.0->accelerate) (3.2.1)\n",
      "Requirement already satisfied: jinja2 in /opt/anaconda3/lib/python3.11/site-packages (from torch>=1.10.0->accelerate) (3.1.3)\n",
      "Requirement already satisfied: fsspec in /opt/anaconda3/lib/python3.11/site-packages (from torch>=1.10.0->accelerate) (2024.2.0)\n",
      "Requirement already satisfied: requests in /opt/anaconda3/lib/python3.11/site-packages (from huggingface-hub->accelerate) (2.32.3)\n",
      "Requirement already satisfied: tqdm>=4.42.1 in /opt/anaconda3/lib/python3.11/site-packages (from huggingface-hub->accelerate) (4.66.4)\n",
      "Requirement already satisfied: MarkupSafe>=2.0 in /opt/anaconda3/lib/python3.11/site-packages (from jinja2->torch>=1.10.0->accelerate) (2.1.5)\n",
      "Requirement already satisfied: charset-normalizer<4,>=2 in /opt/anaconda3/lib/python3.11/site-packages (from requests->huggingface-hub->accelerate) (2.0.4)\n",
      "Requirement already satisfied: idna<4,>=2.5 in /opt/anaconda3/lib/python3.11/site-packages (from requests->huggingface-hub->accelerate) (3.7)\n",
      "Requirement already satisfied: urllib3<3,>=1.21.1 in /opt/anaconda3/lib/python3.11/site-packages (from requests->huggingface-hub->accelerate) (2.2.1)\n",
      "Requirement already satisfied: certifi>=2017.4.17 in /opt/anaconda3/lib/python3.11/site-packages (from requests->huggingface-hub->accelerate) (2024.6.2)\n",
      "Requirement already satisfied: mpmath>=0.19 in /opt/anaconda3/lib/python3.11/site-packages (from sympy->torch>=1.10.0->accelerate) (1.3.0)\n"
     ]
    }
   ],
   "source": [
    "!pip install bitsandbytes accelerate"
   ]
  },
  {
   "cell_type": "code",
   "execution_count": 3,
   "id": "d9f463d8-7825-43ba-8a60-b512a4f82e72",
   "metadata": {},
   "outputs": [],
   "source": [
    "config = \"\"\"\n",
    "models:\n",
    "  - model: flammenai/Mahou-1.3-llama3-8B\n",
    "    parameters:\n",
    "      weight: 1.0\n",
    "  - model: Danielbrdz/Barcenas-Llama3-8b-ORPO\n",
    "    parameters:\n",
    "      weight: 1.0\n",
    "  - model: Weyaxi/Einstein-v6.1-Llama3-8B\n",
    "    parameters:\n",
    "      weight: 1.0\n",
    "merge_method: linear\n",
    "tokenizer_source: union\n",
    "dtype: float16\"\"\""
   ]
  },
  {
   "cell_type": "code",
   "execution_count": 5,
   "id": "5a35b836-5662-45c2-99f2-7b7abb7a261d",
   "metadata": {},
   "outputs": [],
   "source": [
    "with open('config.yaml','w',encoding='utf-8') as f:\n",
    "    f.write(config)"
   ]
  },
  {
   "cell_type": "code",
   "execution_count": 7,
   "id": "a742ebed-3d68-4dc2-8758-4b190f2e4e54",
   "metadata": {},
   "outputs": [
    {
     "name": "stdout",
     "output_type": "stream",
     "text": [
      "fatal: destination path 'mergekit' already exists and is not an empty directory.\n",
      "/Users/naveenpoliasetty/Merging /mergekit\n"
     ]
    }
   ],
   "source": [
    "!git clone https://github.com/arcee-ai/mergekit.git\n",
    "%cd mergekit"
   ]
  },
  {
   "cell_type": "code",
   "execution_count": 9,
   "id": "bab5a373-2c9d-49ff-baa5-62b1119773c0",
   "metadata": {},
   "outputs": [
    {
     "name": "stdout",
     "output_type": "stream",
     "text": [
      "Obtaining file:///Users/naveenpoliasetty/Merging%20/mergekit\n",
      "  Installing build dependencies ... \u001b[?25ldone\n",
      "\u001b[?25h  Checking if build backend supports build_editable ... \u001b[?25ldone\n",
      "\u001b[?25h  Getting requirements to build editable ... \u001b[?25ldone\n",
      "\u001b[?25h  Preparing editable metadata (pyproject.toml) ... \u001b[?25ldone\n",
      "\u001b[?25hRequirement already satisfied: torch>=2.0.0 in /opt/anaconda3/lib/python3.11/site-packages (from mergekit==0.0.4.3) (2.2.0)\n",
      "Requirement already satisfied: tqdm==4.66.4 in /opt/anaconda3/lib/python3.11/site-packages (from mergekit==0.0.4.3) (4.66.4)\n",
      "Requirement already satisfied: click==8.1.7 in /opt/anaconda3/lib/python3.11/site-packages (from mergekit==0.0.4.3) (8.1.7)\n",
      "Requirement already satisfied: safetensors~=0.4.3 in /opt/anaconda3/lib/python3.11/site-packages (from mergekit==0.0.4.3) (0.4.3)\n",
      "Requirement already satisfied: accelerate~=0.30.1 in /opt/anaconda3/lib/python3.11/site-packages (from mergekit==0.0.4.3) (0.30.1)\n",
      "Requirement already satisfied: pydantic==2.7.1 in /opt/anaconda3/lib/python3.11/site-packages (from mergekit==0.0.4.3) (2.7.1)\n",
      "Requirement already satisfied: immutables==0.20 in /opt/anaconda3/lib/python3.11/site-packages (from mergekit==0.0.4.3) (0.20)\n",
      "Requirement already satisfied: transformers>=4.39.3 in /opt/anaconda3/lib/python3.11/site-packages (from mergekit==0.0.4.3) (4.41.2)\n",
      "Requirement already satisfied: huggingface-hub in /opt/anaconda3/lib/python3.11/site-packages (from mergekit==0.0.4.3) (0.23.3)\n",
      "Requirement already satisfied: peft in /opt/anaconda3/lib/python3.11/site-packages (from mergekit==0.0.4.3) (0.11.1)\n",
      "Requirement already satisfied: typing-extensions in /opt/anaconda3/lib/python3.11/site-packages (from mergekit==0.0.4.3) (4.9.0)\n",
      "Requirement already satisfied: sentencepiece in /opt/anaconda3/lib/python3.11/site-packages (from mergekit==0.0.4.3) (0.2.0)\n",
      "Requirement already satisfied: protobuf in /opt/anaconda3/lib/python3.11/site-packages (from mergekit==0.0.4.3) (4.25.3)\n",
      "Requirement already satisfied: annotated-types>=0.4.0 in /opt/anaconda3/lib/python3.11/site-packages (from pydantic==2.7.1->mergekit==0.0.4.3) (0.6.0)\n",
      "Requirement already satisfied: pydantic-core==2.18.2 in /opt/anaconda3/lib/python3.11/site-packages (from pydantic==2.7.1->mergekit==0.0.4.3) (2.18.2)\n",
      "Requirement already satisfied: numpy>=1.17 in /opt/anaconda3/lib/python3.11/site-packages (from accelerate~=0.30.1->mergekit==0.0.4.3) (1.26.4)\n",
      "Requirement already satisfied: packaging>=20.0 in /opt/anaconda3/lib/python3.11/site-packages (from accelerate~=0.30.1->mergekit==0.0.4.3) (23.2)\n",
      "Requirement already satisfied: psutil in /opt/anaconda3/lib/python3.11/site-packages (from accelerate~=0.30.1->mergekit==0.0.4.3) (5.9.0)\n",
      "Requirement already satisfied: pyyaml in /opt/anaconda3/lib/python3.11/site-packages (from accelerate~=0.30.1->mergekit==0.0.4.3) (6.0.1)\n",
      "Requirement already satisfied: filelock in /opt/anaconda3/lib/python3.11/site-packages (from torch>=2.0.0->mergekit==0.0.4.3) (3.13.1)\n",
      "Requirement already satisfied: sympy in /opt/anaconda3/lib/python3.11/site-packages (from torch>=2.0.0->mergekit==0.0.4.3) (1.12)\n",
      "Requirement already satisfied: networkx in /opt/anaconda3/lib/python3.11/site-packages (from torch>=2.0.0->mergekit==0.0.4.3) (3.2.1)\n",
      "Requirement already satisfied: jinja2 in /opt/anaconda3/lib/python3.11/site-packages (from torch>=2.0.0->mergekit==0.0.4.3) (3.1.3)\n",
      "Requirement already satisfied: fsspec in /opt/anaconda3/lib/python3.11/site-packages (from torch>=2.0.0->mergekit==0.0.4.3) (2024.2.0)\n",
      "Requirement already satisfied: regex!=2019.12.17 in /opt/anaconda3/lib/python3.11/site-packages (from transformers>=4.39.3->mergekit==0.0.4.3) (2023.12.25)\n",
      "Requirement already satisfied: requests in /opt/anaconda3/lib/python3.11/site-packages (from transformers>=4.39.3->mergekit==0.0.4.3) (2.32.3)\n",
      "Requirement already satisfied: tokenizers<0.20,>=0.19 in /opt/anaconda3/lib/python3.11/site-packages (from transformers>=4.39.3->mergekit==0.0.4.3) (0.19.1)\n",
      "Requirement already satisfied: MarkupSafe>=2.0 in /opt/anaconda3/lib/python3.11/site-packages (from jinja2->torch>=2.0.0->mergekit==0.0.4.3) (2.1.5)\n",
      "Requirement already satisfied: charset-normalizer<4,>=2 in /opt/anaconda3/lib/python3.11/site-packages (from requests->transformers>=4.39.3->mergekit==0.0.4.3) (2.0.4)\n",
      "Requirement already satisfied: idna<4,>=2.5 in /opt/anaconda3/lib/python3.11/site-packages (from requests->transformers>=4.39.3->mergekit==0.0.4.3) (3.7)\n",
      "Requirement already satisfied: urllib3<3,>=1.21.1 in /opt/anaconda3/lib/python3.11/site-packages (from requests->transformers>=4.39.3->mergekit==0.0.4.3) (2.2.1)\n",
      "Requirement already satisfied: certifi>=2017.4.17 in /opt/anaconda3/lib/python3.11/site-packages (from requests->transformers>=4.39.3->mergekit==0.0.4.3) (2024.6.2)\n",
      "Requirement already satisfied: mpmath>=0.19 in /opt/anaconda3/lib/python3.11/site-packages (from sympy->torch>=2.0.0->mergekit==0.0.4.3) (1.3.0)\n",
      "Building wheels for collected packages: mergekit\n",
      "  Building editable for mergekit (pyproject.toml) ... \u001b[?25ldone\n",
      "\u001b[?25h  Created wheel for mergekit: filename=mergekit-0.0.4.3-0.editable-py3-none-any.whl size=10874 sha256=0f05dc49ee2a5a81616c96aa1e6452758f25d4fb5837698ddbedf7d79ba68ba9\n",
      "  Stored in directory: /private/var/folders/pn/nglk658d0fj7c99hfq3nntt00000gn/T/pip-ephem-wheel-cache-ilrszqje/wheels/2f/27/0e/6f9a240c7c98fdeca0d05c277953ef24ff90cdb30ac1dd8537\n",
      "Successfully built mergekit\n",
      "Installing collected packages: mergekit\n",
      "  Attempting uninstall: mergekit\n",
      "    Found existing installation: mergekit 0.0.4.3\n",
      "    Uninstalling mergekit-0.0.4.3:\n",
      "      Successfully uninstalled mergekit-0.0.4.3\n",
      "Successfully installed mergekit-0.0.4.3\n"
     ]
    }
   ],
   "source": [
    "!pip install -e ."
   ]
  },
  {
   "cell_type": "code",
   "execution_count": 10,
   "id": "29b2380c-878e-431e-a450-387fabdceca3",
   "metadata": {},
   "outputs": [],
   "source": [
    "OUTPUT_PATH = \"models/llama-V1/merged/mini\"\n",
    "LORA_MERGE_CACHE = \"/tmp\"\n",
    "CONFIG_YAML = None"
   ]
  },
  {
   "cell_type": "code",
   "execution_count": null,
   "id": "7d7e414a-b2e5-4cf2-b94b-8447f6b6ba96",
   "metadata": {},
   "outputs": [],
   "source": [
    "import torch\n",
    "import yaml\n",
    "\n",
    "from mergekit.config import MergeConfiguration\n",
    "from mergekit.merge import MergeOptions, run_merge\n",
    "\n",
    "with open('config.yaml','r',encoding='utf-8')as f:\n",
    "    merge_config = MergeConfiguration.model_validate(yaml.safe_load(f))\n",
    "run_merge (\n",
    "    merge_config,\n",
    "    out_path = OUTPUT_PATH,\n",
    "    options = MergeOptions(\n",
    "        lora_merge_cache = LORA_MERGE_CACHE,\n",
    "        copy_tokenizer = True,\n",
    "        lazy_unpickle = False,\n",
    "        low_cpu_memory = False),\n",
    "        )\n",
    "print(\"DONE\")"
   ]
  },
  {
   "cell_type": "code",
   "execution_count": null,
   "id": "4b519b01-0477-453a-9b5d-ff0403914a35",
   "metadata": {},
   "outputs": [],
   "source": [
    "from transformers import AutoModelForCausalLM, AutoTokenizer, BitsAndBytesConfig\n",
    "import torch\n",
    "\n",
    "QUANT_CONFIG = BitsAndBytesConfig(\n",
    "    load_in_4bit=True,\n",
    "    bnb_4bit_quant_type=\"nf4\",\n",
    "    bnb_4bit_compute_dtype=torch.bfloat16,\n",
    "    bnb_4bit_use_double_quant=True,\n",
    ")\n",
    "\n",
    "tokenizer = AutoTokenizer.from_pretrained(\"models/llama-V1/merged/mini\")\n",
    "model = AutoModelForCausalLM.from_pretrained(\"models/llama-V1/merged/mini\", quantization_config=QUANT_CONFIG)\n",
    "\n",
    "user_message = \"Write a recursive function that calculates Fibonacci sequence in Python.\"\n",
    "prompt = f\"\"\"Below is an instruction that describes a task, paired with an input that provides further context. Write a response that appropriately completes the request.\n",
    "\n",
    "### Instruction:\n",
    "{user_message}\n",
    "\n",
    "### Response:\n",
    "\"\"\"\n",
    "\n",
    "inputs = tokenizer(prompt, return_tensors=\"pt\")\n",
    "outputs = model.generate(**inputs.to(\"cuda\"),\n",
    "                              max_new_tokens=512,\n",
    "                              num_beams=10,\n",
    "                              early_stopping=True,\n",
    "                              no_repeat_ngram_size=2,\n",
    "                              )\n",
    "result = tokenizer.batch_decode(outputs, skip_special_tokens=True)\n",
    "print(result[0])\n",
    "     "
   ]
  },
  {
   "cell_type": "code",
   "execution_count": null,
   "id": "5ae1c63a-af86-48da-a5ef-b7048b5a2018",
   "metadata": {},
   "outputs": [],
   "source": [
    "from huggingface_hub import notebook_login\n",
    "\n",
    "notebook_login()"
   ]
  },
  {
   "cell_type": "code",
   "execution_count": null,
   "id": "923ff7d4-7956-4eb9-a7f7-9d14727e4278",
   "metadata": {},
   "outputs": [],
   "source": [
    "model.push_to_hub(\"Naveenpoliasetty/llama3-8B-merged-V-small\")\n",
    "tokenizer.push_to_hub(\"Naveenpoliasetty/llama3-8B-merged-V-small\")"
   ]
  },
  {
   "cell_type": "code",
   "execution_count": null,
   "id": "b9d78f61-1f12-4cca-a5dd-866a14271385",
   "metadata": {},
   "outputs": [],
   "source": []
  }
 ],
 "metadata": {
  "kernelspec": {
   "display_name": "Python 3 (ipykernel)",
   "language": "python",
   "name": "python3"
  },
  "language_info": {
   "codemirror_mode": {
    "name": "ipython",
    "version": 3
   },
   "file_extension": ".py",
   "mimetype": "text/x-python",
   "name": "python",
   "nbconvert_exporter": "python",
   "pygments_lexer": "ipython3",
   "version": "3.11.7"
  }
 },
 "nbformat": 4,
 "nbformat_minor": 5
}
